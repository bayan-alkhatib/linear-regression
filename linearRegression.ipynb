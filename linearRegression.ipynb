{
 "cells": [
  {
   "cell_type": "code",
   "execution_count": 1,
   "id": "3fcfe294-12e2-475c-b27e-6f85ae61a2bf",
   "metadata": {},
   "outputs": [],
   "source": [
    "import pandas as pd\n",
    "import matplotlib.pyplot as plt \n",
    "from sklearn.linear_model import LinearRegression\n",
    "from sklearn.model_selection import train_test_split"
   ]
  },
  {
   "cell_type": "code",
   "execution_count": 2,
   "id": "86d59b19-37b7-4202-a3f9-63421e4e5861",
   "metadata": {},
   "outputs": [],
   "source": [
    "df=pd.read_csv('./train.csv').head(50)"
   ]
  },
  {
   "cell_type": "markdown",
   "id": "262d3c14-4339-4004-b0f1-387ef52f8de9",
   "metadata": {},
   "source": [
    "## Show the first five rows of the data set."
   ]
  },
  {
   "cell_type": "code",
   "execution_count": 3,
   "id": "6a35659b-1856-4aef-b2e6-d75a57be8b03",
   "metadata": {},
   "outputs": [
    {
     "data": {
      "text/html": [
       "<div>\n",
       "<style scoped>\n",
       "    .dataframe tbody tr th:only-of-type {\n",
       "        vertical-align: middle;\n",
       "    }\n",
       "\n",
       "    .dataframe tbody tr th {\n",
       "        vertical-align: top;\n",
       "    }\n",
       "\n",
       "    .dataframe thead th {\n",
       "        text-align: right;\n",
       "    }\n",
       "</style>\n",
       "<table border=\"1\" class=\"dataframe\">\n",
       "  <thead>\n",
       "    <tr style=\"text-align: right;\">\n",
       "      <th></th>\n",
       "      <th>x</th>\n",
       "      <th>y</th>\n",
       "    </tr>\n",
       "  </thead>\n",
       "  <tbody>\n",
       "    <tr>\n",
       "      <th>0</th>\n",
       "      <td>24.0</td>\n",
       "      <td>21.549452</td>\n",
       "    </tr>\n",
       "    <tr>\n",
       "      <th>1</th>\n",
       "      <td>50.0</td>\n",
       "      <td>47.464463</td>\n",
       "    </tr>\n",
       "    <tr>\n",
       "      <th>2</th>\n",
       "      <td>15.0</td>\n",
       "      <td>17.218656</td>\n",
       "    </tr>\n",
       "    <tr>\n",
       "      <th>3</th>\n",
       "      <td>38.0</td>\n",
       "      <td>36.586398</td>\n",
       "    </tr>\n",
       "    <tr>\n",
       "      <th>4</th>\n",
       "      <td>87.0</td>\n",
       "      <td>87.288984</td>\n",
       "    </tr>\n",
       "  </tbody>\n",
       "</table>\n",
       "</div>"
      ],
      "text/plain": [
       "      x          y\n",
       "0  24.0  21.549452\n",
       "1  50.0  47.464463\n",
       "2  15.0  17.218656\n",
       "3  38.0  36.586398\n",
       "4  87.0  87.288984"
      ]
     },
     "execution_count": 3,
     "metadata": {},
     "output_type": "execute_result"
    }
   ],
   "source": [
    "show_first5_rows=df.head()\n",
    "show_first5_rows"
   ]
  },
  {
   "cell_type": "markdown",
   "id": "21ca3829-778d-46d0-a208-623bd5712703",
   "metadata": {},
   "source": [
    "## Show the description and the info of the data set"
   ]
  },
  {
   "cell_type": "code",
   "execution_count": 4,
   "id": "1cf1cdf7-0890-4f29-849f-cb254b85a027",
   "metadata": {},
   "outputs": [
    {
     "data": {
      "text/html": [
       "<div>\n",
       "<style scoped>\n",
       "    .dataframe tbody tr th:only-of-type {\n",
       "        vertical-align: middle;\n",
       "    }\n",
       "\n",
       "    .dataframe tbody tr th {\n",
       "        vertical-align: top;\n",
       "    }\n",
       "\n",
       "    .dataframe thead th {\n",
       "        text-align: right;\n",
       "    }\n",
       "</style>\n",
       "<table border=\"1\" class=\"dataframe\">\n",
       "  <thead>\n",
       "    <tr style=\"text-align: right;\">\n",
       "      <th></th>\n",
       "      <th>x</th>\n",
       "      <th>y</th>\n",
       "    </tr>\n",
       "  </thead>\n",
       "  <tbody>\n",
       "    <tr>\n",
       "      <th>count</th>\n",
       "      <td>50.000000</td>\n",
       "      <td>50.000000</td>\n",
       "    </tr>\n",
       "    <tr>\n",
       "      <th>mean</th>\n",
       "      <td>41.880000</td>\n",
       "      <td>41.498498</td>\n",
       "    </tr>\n",
       "    <tr>\n",
       "      <th>std</th>\n",
       "      <td>26.169495</td>\n",
       "      <td>26.103033</td>\n",
       "    </tr>\n",
       "    <tr>\n",
       "      <th>min</th>\n",
       "      <td>0.000000</td>\n",
       "      <td>-1.286311</td>\n",
       "    </tr>\n",
       "    <tr>\n",
       "      <th>25%</th>\n",
       "      <td>20.250000</td>\n",
       "      <td>22.028386</td>\n",
       "    </tr>\n",
       "    <tr>\n",
       "      <th>50%</th>\n",
       "      <td>38.500000</td>\n",
       "      <td>37.993449</td>\n",
       "    </tr>\n",
       "    <tr>\n",
       "      <th>75%</th>\n",
       "      <td>58.750000</td>\n",
       "      <td>60.526097</td>\n",
       "    </tr>\n",
       "    <tr>\n",
       "      <th>max</th>\n",
       "      <td>93.000000</td>\n",
       "      <td>94.684883</td>\n",
       "    </tr>\n",
       "  </tbody>\n",
       "</table>\n",
       "</div>"
      ],
      "text/plain": [
       "               x          y\n",
       "count  50.000000  50.000000\n",
       "mean   41.880000  41.498498\n",
       "std    26.169495  26.103033\n",
       "min     0.000000  -1.286311\n",
       "25%    20.250000  22.028386\n",
       "50%    38.500000  37.993449\n",
       "75%    58.750000  60.526097\n",
       "max    93.000000  94.684883"
      ]
     },
     "execution_count": 4,
     "metadata": {},
     "output_type": "execute_result"
    }
   ],
   "source": [
    "description=df.describe()\n",
    "description"
   ]
  },
  {
   "cell_type": "code",
   "execution_count": 5,
   "id": "0629f242-a633-43fb-8a7b-7f8d887cd231",
   "metadata": {},
   "outputs": [
    {
     "name": "stdout",
     "output_type": "stream",
     "text": [
      "<class 'pandas.core.frame.DataFrame'>\n",
      "RangeIndex: 50 entries, 0 to 49\n",
      "Data columns (total 2 columns):\n",
      " #   Column  Non-Null Count  Dtype  \n",
      "---  ------  --------------  -----  \n",
      " 0   x       50 non-null     float64\n",
      " 1   y       50 non-null     float64\n",
      "dtypes: float64(2)\n",
      "memory usage: 928.0 bytes\n"
     ]
    }
   ],
   "source": [
    "info=df.info()\n",
    "info"
   ]
  },
  {
   "cell_type": "markdown",
   "id": "57117e66-539a-4906-9165-9129a72967a4",
   "metadata": {},
   "source": [
    "## LinearRegression"
   ]
  },
  {
   "cell_type": "code",
   "execution_count": 6,
   "id": "8002471a-ab03-4f8b-bc1b-a2ee66d69cf4",
   "metadata": {},
   "outputs": [
    {
     "data": {
      "text/plain": [
       "array([24., 50., 15., 38., 87., 36., 12., 81., 25.,  5., 16., 16., 24.,\n",
       "       39., 54., 60., 26., 73., 29., 31., 68., 87., 58., 54., 84., 58.,\n",
       "       49., 20., 90., 48.,  4., 25., 42.,  0., 60., 93., 39.,  7., 21.,\n",
       "       68., 84.,  0., 58., 19., 36., 19., 59., 51., 19., 33.])"
      ]
     },
     "execution_count": 6,
     "metadata": {},
     "output_type": "execute_result"
    }
   ],
   "source": [
    "x=df['x'].values\n",
    "x"
   ]
  },
  {
   "cell_type": "code",
   "execution_count": 7,
   "id": "b30763a8-5e7e-4088-ad8d-a1d15cb3bc23",
   "metadata": {},
   "outputs": [
    {
     "data": {
      "text/plain": [
       "array([[24.],\n",
       "       [50.],\n",
       "       [15.],\n",
       "       [38.],\n",
       "       [87.],\n",
       "       [36.],\n",
       "       [12.],\n",
       "       [81.],\n",
       "       [25.],\n",
       "       [ 5.],\n",
       "       [16.],\n",
       "       [16.],\n",
       "       [24.],\n",
       "       [39.],\n",
       "       [54.],\n",
       "       [60.],\n",
       "       [26.],\n",
       "       [73.],\n",
       "       [29.],\n",
       "       [31.],\n",
       "       [68.],\n",
       "       [87.],\n",
       "       [58.],\n",
       "       [54.],\n",
       "       [84.],\n",
       "       [58.],\n",
       "       [49.],\n",
       "       [20.],\n",
       "       [90.],\n",
       "       [48.],\n",
       "       [ 4.],\n",
       "       [25.],\n",
       "       [42.],\n",
       "       [ 0.],\n",
       "       [60.],\n",
       "       [93.],\n",
       "       [39.],\n",
       "       [ 7.],\n",
       "       [21.],\n",
       "       [68.],\n",
       "       [84.],\n",
       "       [ 0.],\n",
       "       [58.],\n",
       "       [19.],\n",
       "       [36.],\n",
       "       [19.],\n",
       "       [59.],\n",
       "       [51.],\n",
       "       [19.],\n",
       "       [33.]])"
      ]
     },
     "execution_count": 7,
     "metadata": {},
     "output_type": "execute_result"
    }
   ],
   "source": [
    "x=x.reshape(-1,1)\n",
    "x"
   ]
  },
  {
   "cell_type": "code",
   "execution_count": 8,
   "id": "97b1dc37-f5ba-4ce4-8c28-7f95585fb232",
   "metadata": {},
   "outputs": [
    {
     "data": {
      "text/plain": [
       "array([21.54945196, 47.46446305, 17.21865634, 36.58639803, 87.28898389,\n",
       "       32.46387493, 10.78089683, 80.7633986 , 24.61215147,  6.96331907,\n",
       "       11.23757338, 13.53290206, 24.60323899, 39.40049976, 48.43753838,\n",
       "       61.69900319, 26.92832418, 70.4052055 , 29.34092408, 25.30895192,\n",
       "       69.02934339, 84.99484703, 57.04310305, 50.5921991 , 83.02772202,\n",
       "       57.05752706, 47.95883341, 24.34226432, 94.68488281, 48.03970696,\n",
       "        7.08132338, 21.99239907, 42.33151664,  0.32908944, 61.92303698,\n",
       "       91.17716423, 39.45358014,  5.99606961, 22.59015942, 61.18044414,\n",
       "       85.02778957, -1.28631089, 61.94273962, 21.96033347, 33.66194193,\n",
       "       17.60946242, 58.5630564 , 52.82390762, 22.1363481 , 35.07467353])"
      ]
     },
     "execution_count": 8,
     "metadata": {},
     "output_type": "execute_result"
    }
   ],
   "source": [
    "y=df['y'].values\n",
    "y"
   ]
  },
  {
   "cell_type": "code",
   "execution_count": 9,
   "id": "37aaf022-5d87-4fe6-9ac4-87fa0ce63a20",
   "metadata": {},
   "outputs": [],
   "source": [
    "x_train, x_test, y_train, y_test= train_test_split(x, y, test_size=0.25, random_state =4)\n"
   ]
  },
  {
   "cell_type": "code",
   "execution_count": 10,
   "id": "40abff59-ee8a-47fc-9cee-4891af9b3a84",
   "metadata": {},
   "outputs": [
    {
     "data": {
      "text/plain": [
       "(37, 1)"
      ]
     },
     "execution_count": 10,
     "metadata": {},
     "output_type": "execute_result"
    }
   ],
   "source": [
    "x_train.shape"
   ]
  },
  {
   "cell_type": "code",
   "execution_count": 11,
   "id": "c80a26a4-89aa-4f61-a27c-7c2b389d1cdc",
   "metadata": {},
   "outputs": [
    {
     "data": {
      "image/png": "[encoded data removed]",
      "text/plain": [
       "<Figure size 432x288 with 1 Axes>"
      ]
     },
     "metadata": {
      "needs_background": "light"
     },
     "output_type": "display_data"
    }
   ],
   "source": [
    "plt.scatter(x_train, y_train)\n",
    "plt.xlabel('x')\n",
    "plt.ylabel('y')\n",
    "plt.title('Regression')\n",
    "plt.show()"
   ]
  },
  {
   "cell_type": "code",
   "execution_count": 12,
   "id": "951e3e2a-d45b-465d-ab60-6afdea803f8d",
   "metadata": {},
   "outputs": [],
   "source": [
    "model= LinearRegression()\n",
    "model.fit(x_train,y_train)\n",
    "y_predict=model.predict(x_test)\n",
    "\n"
   ]
  },
  {
   "cell_type": "code",
   "execution_count": 13,
   "id": "2207123c-2a29-44f2-a1f6-65ab6ae53475",
   "metadata": {},
   "outputs": [
    {
     "data": {
      "text/plain": [
       "[<matplotlib.lines.Line2D at 0x7f25c97907f0>]"
      ]
     },
     "execution_count": 13,
     "metadata": {},
     "output_type": "execute_result"
    },
    {
     "data": {
      "image/png": "[encoded data removed]",
      "text/plain": [
       "<Figure size 432x288 with 1 Axes>"
      ]
     },
     "metadata": {
      "needs_background": "light"
     },
     "output_type": "display_data"
    }
   ],
   "source": [
    "plt.scatter(x_train,y_train, color='yellow')\n",
    "plt.scatter(x_test,y_test, color= 'black')\n",
    "plt.plot(x_test,y_predict,color='red')\n"
   ]
  },
  {
   "cell_type": "code",
   "execution_count": 14,
   "id": "57504338-536b-4bdf-ba73-03332e6ac8a1",
   "metadata": {},
   "outputs": [
    {
     "data": {
      "text/plain": [
       "0.9941728736035448"
      ]
     },
     "execution_count": 14,
     "metadata": {},
     "output_type": "execute_result"
    }
   ],
   "source": [
    "accu=model.score(x_test,y_test)\n",
    "accu"
   ]
  },
  {
   "cell_type": "markdown",
   "id": "fc6380c2-06df-4345-a38d-430110b05ce6",
   "metadata": {},
   "source": [
    "## LinearRegression1"
   ]
  },
  {
   "cell_type": "code",
   "execution_count": 15,
   "id": "518b3dd9-4506-44e6-8919-2e0531df6fe8",
   "metadata": {},
   "outputs": [],
   "source": [
    "df1=pd.read_csv('./insurance.csv').head(50)"
   ]
  },
  {
   "cell_type": "code",
   "execution_count": 16,
   "id": "c34c99fb-b1c1-489a-b332-d6d65736a0b5",
   "metadata": {},
   "outputs": [
    {
     "data": {
      "image/png": "[encoded data removed]",
      "text/plain": [
       "<Figure size 432x288 with 1 Axes>"
      ]
     },
     "metadata": {
      "needs_background": "light"
     },
     "output_type": "display_data"
    }
   ],
   "source": [
    "x1=df1['age'].values\n",
    "x1=x.reshape(-1,1)\n",
    "y1=df1['children'].values\n",
    "x1_train, x1_test, y1_train, y1_test= train_test_split(x1, y1, test_size=0.25, random_state =4)\n",
    "plt.scatter(x1_train, y1_train)\n",
    "plt.xlabel('age')\n",
    "plt.ylabel('childern')\n",
    "plt.title('Regression')\n",
    "plt.show()\n",
    "\n"
   ]
  },
  {
   "cell_type": "code",
   "execution_count": 17,
   "id": "e3241b5c-4474-4f65-ab55-1aa8732e4aa2",
   "metadata": {},
   "outputs": [],
   "source": [
    "model= LinearRegression()\n",
    "model.fit(x1_train,y1_train)\n",
    "y1_predict=model.predict(x1_test)"
   ]
  },
  {
   "cell_type": "code",
   "execution_count": 18,
   "id": "5f9cff55-0329-4156-9248-0cd93c6938c9",
   "metadata": {},
   "outputs": [
    {
     "data": {
      "text/plain": [
       "[<matplotlib.lines.Line2D at 0x7f25c96ea310>]"
      ]
     },
     "execution_count": 18,
     "metadata": {},
     "output_type": "execute_result"
    },
    {
     "data": {
      "image/png": "[encoded data removed]",
      "text/plain": [
       "<Figure size 432x288 with 1 Axes>"
      ]
     },
     "metadata": {
      "needs_background": "light"
     },
     "output_type": "display_data"
    }
   ],
   "source": [
    "plt.scatter(x1_train,y1_train, color='yellow')\n",
    "plt.scatter(x1_test,y1_test, color= 'black')\n",
    "plt.plot(x1_test,y1_predict,color='red')"
   ]
  },
  {
   "cell_type": "code",
   "execution_count": 19,
   "id": "8d8c913c-108d-4577-b1de-028845df8926",
   "metadata": {},
   "outputs": [
    {
     "data": {
      "text/plain": [
       "-0.0645682612855627"
      ]
     },
     "execution_count": 19,
     "metadata": {},
     "output_type": "execute_result"
    }
   ],
   "source": [
    "accu=model.score(x1_test,y1_test)\n",
    "accu"
   ]
  },
  {
   "cell_type": "markdown",
   "id": "662d1b10-c9b9-4be1-9eb3-7d7d0aa6b034",
   "metadata": {},
   "source": [
    "## LinearRegression2"
   ]
  },
  {
   "cell_type": "code",
   "execution_count": 20,
   "id": "f661047b-844e-4a27-8d24-be401f7316d4",
   "metadata": {},
   "outputs": [
    {
     "data": {
      "image/png": "[encoded data removed]",
      "text/plain": [
       "<Figure size 432x288 with 1 Axes>"
      ]
     },
     "metadata": {
      "needs_background": "light"
     },
     "output_type": "display_data"
    }
   ],
   "source": [
    "x=df1['bmi'].values\n",
    "x=x.reshape(-1,1)\n",
    "y=df1['charges'].values\n",
    "x_train, x_test, y_train, y_test= train_test_split(x, y, test_size=0.25, random_state =4)\n",
    "plt.scatter(x_train, y_train)\n",
    "plt.xlabel('bmi')\n",
    "plt.ylabel('charges')\n",
    "plt.title('Regression')\n",
    "plt.show()"
   ]
  },
  {
   "cell_type": "code",
   "execution_count": 21,
   "id": "6038bfcd-556a-4a73-b86c-d42ddc4f661b",
   "metadata": {},
   "outputs": [],
   "source": [
    "model= LinearRegression()\n",
    "model.fit(x_train,y_train)\n",
    "y_predict=model.predict(x_test)"
   ]
  },
  {
   "cell_type": "code",
   "execution_count": 22,
   "id": "49c69eb6-8a6a-489b-a405-7710c4efc1f7",
   "metadata": {},
   "outputs": [
    {
     "data": {
      "text/plain": [
       "[<matplotlib.lines.Line2D at 0x7f25c95bc580>]"
      ]
     },
     "execution_count": 22,
     "metadata": {},
     "output_type": "execute_result"
    },
    {
     "data": {
      "image/png": "[encoded data removed]",
      "text/plain": [
       "<Figure size 432x288 with 1 Axes>"
      ]
     },
     "metadata": {
      "needs_background": "light"
     },
     "output_type": "display_data"
    }
   ],
   "source": [
    "plt.scatter(x_train,y_train, color='yellow')\n",
    "plt.scatter(x_test,y_test, color= 'black')\n",
    "plt.plot(x_test,y_predict,color='red')"
   ]
  },
  {
   "cell_type": "code",
   "execution_count": 23,
   "id": "5f953b13-295b-476a-87ee-01b7c2bda660",
   "metadata": {},
   "outputs": [
    {
     "data": {
      "text/plain": [
       "-2.0920579459013684"
      ]
     },
     "execution_count": 23,
     "metadata": {},
     "output_type": "execute_result"
    }
   ],
   "source": [
    "accu=model.score(x_test,y_test)\n",
    "accu"
   ]
  },
  {
   "cell_type": "markdown",
   "id": "dbca5e74-f5c1-429f-a890-fe8c52b8838c",
   "metadata": {},
   "source": [
    "## LinearRegression3"
   ]
  },
  {
   "cell_type": "code",
   "execution_count": 24,
   "id": "902e0938-fdbe-454d-aa38-c28585b7bc7d",
   "metadata": {},
   "outputs": [
    {
     "data": {
      "image/png": "[encoded data removed]",
      "text/plain": [
       "<Figure size 432x288 with 1 Axes>"
      ]
     },
     "metadata": {
      "needs_background": "light"
     },
     "output_type": "display_data"
    }
   ],
   "source": [
    "x=df1['bmi'].values\n",
    "x=x.reshape(-1,1)\n",
    "y=df1['children'].values\n",
    "x_train, x_test, y_train, y_test= train_test_split(x, y, test_size=0.25, random_state =4)\n",
    "plt.scatter(x_train, y_train)\n",
    "plt.xlabel('children')\n",
    "plt.ylabel('bmi')\n",
    "plt.title('Regression')\n",
    "plt.show()"
   ]
  },
  {
   "cell_type": "code",
   "execution_count": 25,
   "id": "44b23395-6137-4d1f-a47f-54d23feb5698",
   "metadata": {},
   "outputs": [],
   "source": [
    "model= LinearRegression()\n",
    "model.fit(x_train,y_train)\n",
    "y_predict=model.predict(x_test)"
   ]
  },
  {
   "cell_type": "code",
   "execution_count": 26,
   "id": "237b496d-ee05-42eb-ab7a-5903f912e68d",
   "metadata": {},
   "outputs": [
    {
     "data": {
      "text/plain": [
       "[<matplotlib.lines.Line2D at 0x7f25c957bdc0>]"
      ]
     },
     "execution_count": 26,
     "metadata": {},
     "output_type": "execute_result"
    },
    {
     "data": {
      "image/png": "[encoded data removed]",
      "text/plain": [
       "<Figure size 432x288 with 1 Axes>"
      ]
     },
     "metadata": {
      "needs_background": "light"
     },
     "output_type": "display_data"
    }
   ],
   "source": [
    "plt.scatter(x_train,y_train, color='yellow')\n",
    "plt.scatter(x_test,y_test, color= 'black')\n",
    "plt.plot(x_test,y_predict,color='red')"
   ]
  },
  {
   "cell_type": "code",
   "execution_count": 27,
   "id": "5a6307ed-c65a-4551-8c9b-ec75877b52d4",
   "metadata": {},
   "outputs": [
    {
     "data": {
      "text/plain": [
       "-0.031026054768477085"
      ]
     },
     "execution_count": 27,
     "metadata": {},
     "output_type": "execute_result"
    }
   ],
   "source": [
    "accu=model.score(x_test,y_test)\n",
    "accu"
   ]
  },
  {
   "cell_type": "code",
   "execution_count": null,
   "id": "7ee5784e-9455-47d1-9382-4939b5eb33bd",
   "metadata": {},
   "outputs": [],
   "source": []
  }
 ],
 "metadata": {
  "kernelspec": {
   "display_name": "Python 3",
   "language": "python",
   "name": "python3"
  },
  "language_info": {
   "codemirror_mode": {
    "name": "ipython",
    "version": 3
   },
   "file_extension": ".py",
   "mimetype": "text/x-python",
   "name": "python",
   "nbconvert_exporter": "python",
   "pygments_lexer": "ipython3",
   "version": "3.9.4"
  }
 },
 "nbformat": 4,
 "nbformat_minor": 5
}
